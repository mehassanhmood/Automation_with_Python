{
 "cells": [
  {
   "cell_type": "code",
   "execution_count": 39,
   "id": "e1ffc9bf-a2b9-4777-800b-0be5d52b5978",
   "metadata": {},
   "outputs": [],
   "source": [
    "def f_analysis(path=''):\n",
    "    import pandas as pd\n",
    "    df = pd.read_csv(path)\n",
    "    from pathlib import Path\n",
    "    import csv\n",
    "    csvpath = Path(\"C:/Users/mehas/Downloads/budget_data.csv\")\n",
    "    total_months = len(df['Date'])\n",
    "    print(f'Total months :{total_months}')\n",
    "    total_pnl = 0\n",
    "    for i in df['Profit/Losses']:\n",
    "        total_pnl += i\n",
    "    print(f'Total profit : {total_pnl}')\n",
    "    df['shifted'] = df['Profit/Losses'].shift(1)\n",
    "    df.loc[0,'shifted'] = 0\n",
    "    df['change'] = df['Profit/Losses'] - df['shifted']\n",
    "    x = df['change'].loc[1:]\n",
    "    average_change = x.mean()\n",
    "    average_change = round(average_change,2)\n",
    "    print(f'Average change :{average_change}')\n",
    "    import pandas as pd\n",
    "    del df['Profit/Losses']\n",
    "    del df['shifted']\n",
    "    greatest_inc = df.max(axis=0)\n",
    "    print(f'Greatest increase :{greatest_inc}')\n",
    "    greatest_dec= df.min(axis=0)\n",
    "    print(f'Greatest decrease :{greatest_dec}')\n",
    "    "
   ]
  },
  {
   "cell_type": "code",
   "execution_count": 40,
   "id": "2b2897ea-c592-4aed-930e-928d123af84e",
   "metadata": {},
   "outputs": [
    {
     "name": "stdout",
     "output_type": "stream",
     "text": [
      "Total months :86\n",
      "Total profit : 38382578\n",
      "Average change :-2315.12\n",
      "Greatest increase :Date       Sep-2016\n",
      "change    1926159.0\n",
      "dtype: object\n",
      "Greatest decrease :Date       Apr-2010\n",
      "change   -2196167.0\n",
      "dtype: object\n"
     ]
    }
   ],
   "source": [
    " results = f_analysis(\"C:/Users/mehas/Downloads/budget_data.csv\")"
   ]
  },
  {
   "cell_type": "code",
   "execution_count": 41,
   "id": "a281c422-400a-435e-99a0-37853f129339",
   "metadata": {},
   "outputs": [],
   "source": [
    "f_a = open('main.txt','w')"
   ]
  },
  {
   "cell_type": "code",
   "execution_count": 42,
   "id": "369b3348-ec41-4b85-95a9-4d7ba5b5540e",
   "metadata": {},
   "outputs": [],
   "source": [
    "f_a.write('Total months :  86'\n",
    "'Total profit : 38382578'\n",
    "'Average change :-2315.12'\n",
    "'Greatest increase :Date  : Sep-2016 , change  : 1926159.0' \n",
    "'Greatest decrease :Date  :  Apr-2010 , change  : -2196167.0')\n",
    "f_a.close()\n"
   ]
  },
  {
   "cell_type": "code",
   "execution_count": null,
   "id": "ab4057db-21b4-460b-bf6f-09b4b99effbe",
   "metadata": {},
   "outputs": [],
   "source": []
  }
 ],
 "metadata": {
  "kernelspec": {
   "display_name": "Python 3 (ipykernel)",
   "language": "python",
   "name": "python3"
  },
  "language_info": {
   "codemirror_mode": {
    "name": "ipython",
    "version": 3
   },
   "file_extension": ".py",
   "mimetype": "text/x-python",
   "name": "python",
   "nbconvert_exporter": "python",
   "pygments_lexer": "ipython3",
   "version": "3.9.7"
  }
 },
 "nbformat": 4,
 "nbformat_minor": 5
}
