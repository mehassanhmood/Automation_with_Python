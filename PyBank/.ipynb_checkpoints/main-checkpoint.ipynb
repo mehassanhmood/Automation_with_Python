{
 "cells": [
  {
   "cell_type": "code",
   "execution_count": 1,
   "id": "0b827052-002c-43f6-a3e8-a2ddbd174501",
   "metadata": {},
   "outputs": [],
   "source": [
    "# script for financial records of a company :"
   ]
  },
  {
   "cell_type": "code",
   "execution_count": 2,
   "id": "0e75720e-b330-44e8-a076-ae66fad2beb3",
   "metadata": {},
   "outputs": [],
   "source": [
    "from pathlib import Path\n",
    "path = \"C:/Users/mehas/Downloads/budget_data.csv\""
   ]
  },
  {
   "cell_type": "code",
   "execution_count": 45,
   "id": "8a437a2d-02af-4fdd-88ad-d10a54c213df",
   "metadata": {},
   "outputs": [
    {
     "data": {
      "text/html": [
       "<div>\n",
       "<style scoped>\n",
       "    .dataframe tbody tr th:only-of-type {\n",
       "        vertical-align: middle;\n",
       "    }\n",
       "\n",
       "    .dataframe tbody tr th {\n",
       "        vertical-align: top;\n",
       "    }\n",
       "\n",
       "    .dataframe thead th {\n",
       "        text-align: right;\n",
       "    }\n",
       "</style>\n",
       "<table border=\"1\" class=\"dataframe\">\n",
       "  <thead>\n",
       "    <tr style=\"text-align: right;\">\n",
       "      <th></th>\n",
       "      <th>Date</th>\n",
       "      <th>Profit/Losses</th>\n",
       "    </tr>\n",
       "  </thead>\n",
       "  <tbody>\n",
       "    <tr>\n",
       "      <th>0</th>\n",
       "      <td>Jan-2010</td>\n",
       "      <td>867884</td>\n",
       "    </tr>\n",
       "    <tr>\n",
       "      <th>1</th>\n",
       "      <td>Feb-2010</td>\n",
       "      <td>984655</td>\n",
       "    </tr>\n",
       "    <tr>\n",
       "      <th>2</th>\n",
       "      <td>Mar-2010</td>\n",
       "      <td>322013</td>\n",
       "    </tr>\n",
       "    <tr>\n",
       "      <th>3</th>\n",
       "      <td>Apr-2010</td>\n",
       "      <td>-69417</td>\n",
       "    </tr>\n",
       "    <tr>\n",
       "      <th>4</th>\n",
       "      <td>May-2010</td>\n",
       "      <td>310503</td>\n",
       "    </tr>\n",
       "    <tr>\n",
       "      <th>...</th>\n",
       "      <td>...</td>\n",
       "      <td>...</td>\n",
       "    </tr>\n",
       "    <tr>\n",
       "      <th>81</th>\n",
       "      <td>Oct-2016</td>\n",
       "      <td>102685</td>\n",
       "    </tr>\n",
       "    <tr>\n",
       "      <th>82</th>\n",
       "      <td>Nov-2016</td>\n",
       "      <td>795914</td>\n",
       "    </tr>\n",
       "    <tr>\n",
       "      <th>83</th>\n",
       "      <td>Dec-2016</td>\n",
       "      <td>60988</td>\n",
       "    </tr>\n",
       "    <tr>\n",
       "      <th>84</th>\n",
       "      <td>Jan-2017</td>\n",
       "      <td>138230</td>\n",
       "    </tr>\n",
       "    <tr>\n",
       "      <th>85</th>\n",
       "      <td>Feb-2017</td>\n",
       "      <td>671099</td>\n",
       "    </tr>\n",
       "  </tbody>\n",
       "</table>\n",
       "<p>86 rows × 2 columns</p>\n",
       "</div>"
      ],
      "text/plain": [
       "        Date  Profit/Losses\n",
       "0   Jan-2010         867884\n",
       "1   Feb-2010         984655\n",
       "2   Mar-2010         322013\n",
       "3   Apr-2010         -69417\n",
       "4   May-2010         310503\n",
       "..       ...            ...\n",
       "81  Oct-2016         102685\n",
       "82  Nov-2016         795914\n",
       "83  Dec-2016          60988\n",
       "84  Jan-2017         138230\n",
       "85  Feb-2017         671099\n",
       "\n",
       "[86 rows x 2 columns]"
      ]
     },
     "execution_count": 45,
     "metadata": {},
     "output_type": "execute_result"
    }
   ],
   "source": [
    "import pandas as pd\n",
    "df = pd.read_csv(path)\n",
    "# df\n",
    "df[['Date','Profit/Losses']]\n"
   ]
  },
  {
   "cell_type": "code",
   "execution_count": 46,
   "id": "e9fe9663-79fe-4903-ad22-06b3ec752ffd",
   "metadata": {},
   "outputs": [
    {
     "name": "stdout",
     "output_type": "stream",
     "text": [
      "Total monts :86\n"
     ]
    }
   ],
   "source": [
    "#Task 1 : Total Months :\n",
    "total_months = len(df['Date'])\n",
    "print(f'Total monts :{total_months}')\n"
   ]
  },
  {
   "cell_type": "code",
   "execution_count": 47,
   "id": "f8192386-3989-4471-82ae-6973b3eb5d22",
   "metadata": {},
   "outputs": [
    {
     "name": "stdout",
     "output_type": "stream",
     "text": [
      "38382578\n"
     ]
    }
   ],
   "source": [
    "#Task 2 : Net total amount of pnl :\n",
    "total_pnl = 0\n",
    "for i in df['Profit/Losses']:\n",
    "    total_pnl += i\n",
    "print(total_pnl)"
   ]
  },
  {
   "cell_type": "code",
   "execution_count": 48,
   "id": "821ee558-cd84-4fb3-9478-9b21a5c824c0",
   "metadata": {},
   "outputs": [
    {
     "data": {
      "text/plain": [
       "-2315.1176470588234"
      ]
     },
     "execution_count": 48,
     "metadata": {},
     "output_type": "execute_result"
    }
   ],
   "source": [
    "#Task 3 : Average Change :\n",
    "import pandas as pd\n",
    "df['shifted'] = df['Profit/Losses'].shift(1)\n",
    "df.loc[0,'shifted'] = 0\n",
    "df['change'] = df['Profit/Losses'] - df['shifted']\n",
    "x = df['change'].loc[1:]\n",
    "average_change = x.mean()\n",
    "average_change"
   ]
  },
  {
   "cell_type": "code",
   "execution_count": 56,
   "id": "5e8b483c-af1b-464a-8584-afeca79fd0b3",
   "metadata": {},
   "outputs": [
    {
     "data": {
      "text/html": [
       "<div>\n",
       "<style scoped>\n",
       "    .dataframe tbody tr th:only-of-type {\n",
       "        vertical-align: middle;\n",
       "    }\n",
       "\n",
       "    .dataframe tbody tr th {\n",
       "        vertical-align: top;\n",
       "    }\n",
       "\n",
       "    .dataframe thead th {\n",
       "        text-align: right;\n",
       "    }\n",
       "</style>\n",
       "<table border=\"1\" class=\"dataframe\">\n",
       "  <thead>\n",
       "    <tr style=\"text-align: right;\">\n",
       "      <th></th>\n",
       "      <th>Date</th>\n",
       "      <th>shifted</th>\n",
       "      <th>change</th>\n",
       "    </tr>\n",
       "  </thead>\n",
       "  <tbody>\n",
       "    <tr>\n",
       "      <th>0</th>\n",
       "      <td>Jan-2010</td>\n",
       "      <td>0.0</td>\n",
       "      <td>867884.0</td>\n",
       "    </tr>\n",
       "    <tr>\n",
       "      <th>1</th>\n",
       "      <td>Feb-2010</td>\n",
       "      <td>867884.0</td>\n",
       "      <td>116771.0</td>\n",
       "    </tr>\n",
       "    <tr>\n",
       "      <th>2</th>\n",
       "      <td>Mar-2010</td>\n",
       "      <td>984655.0</td>\n",
       "      <td>-662642.0</td>\n",
       "    </tr>\n",
       "    <tr>\n",
       "      <th>3</th>\n",
       "      <td>Apr-2010</td>\n",
       "      <td>322013.0</td>\n",
       "      <td>-391430.0</td>\n",
       "    </tr>\n",
       "    <tr>\n",
       "      <th>4</th>\n",
       "      <td>May-2010</td>\n",
       "      <td>-69417.0</td>\n",
       "      <td>379920.0</td>\n",
       "    </tr>\n",
       "    <tr>\n",
       "      <th>...</th>\n",
       "      <td>...</td>\n",
       "      <td>...</td>\n",
       "      <td>...</td>\n",
       "    </tr>\n",
       "    <tr>\n",
       "      <th>81</th>\n",
       "      <td>Oct-2016</td>\n",
       "      <td>768450.0</td>\n",
       "      <td>-665765.0</td>\n",
       "    </tr>\n",
       "    <tr>\n",
       "      <th>82</th>\n",
       "      <td>Nov-2016</td>\n",
       "      <td>102685.0</td>\n",
       "      <td>693229.0</td>\n",
       "    </tr>\n",
       "    <tr>\n",
       "      <th>83</th>\n",
       "      <td>Dec-2016</td>\n",
       "      <td>795914.0</td>\n",
       "      <td>-734926.0</td>\n",
       "    </tr>\n",
       "    <tr>\n",
       "      <th>84</th>\n",
       "      <td>Jan-2017</td>\n",
       "      <td>60988.0</td>\n",
       "      <td>77242.0</td>\n",
       "    </tr>\n",
       "    <tr>\n",
       "      <th>85</th>\n",
       "      <td>Feb-2017</td>\n",
       "      <td>138230.0</td>\n",
       "      <td>532869.0</td>\n",
       "    </tr>\n",
       "  </tbody>\n",
       "</table>\n",
       "<p>86 rows × 3 columns</p>\n",
       "</div>"
      ],
      "text/plain": [
       "        Date   shifted    change\n",
       "0   Jan-2010       0.0  867884.0\n",
       "1   Feb-2010  867884.0  116771.0\n",
       "2   Mar-2010  984655.0 -662642.0\n",
       "3   Apr-2010  322013.0 -391430.0\n",
       "4   May-2010  -69417.0  379920.0\n",
       "..       ...       ...       ...\n",
       "81  Oct-2016  768450.0 -665765.0\n",
       "82  Nov-2016  102685.0  693229.0\n",
       "83  Dec-2016  795914.0 -734926.0\n",
       "84  Jan-2017   60988.0   77242.0\n",
       "85  Feb-2017  138230.0  532869.0\n",
       "\n",
       "[86 rows x 3 columns]"
      ]
     },
     "execution_count": 56,
     "metadata": {},
     "output_type": "execute_result"
    }
   ],
   "source": [
    "df"
   ]
  },
  {
   "cell_type": "code",
   "execution_count": 57,
   "id": "d724d829-80fe-4311-87bb-9bd9a26b48f4",
   "metadata": {},
   "outputs": [
    {
     "data": {
      "text/plain": [
       "Date        Sep-2016\n",
       "shifted    1170593.0\n",
       "change     1926159.0\n",
       "dtype: object"
      ]
     },
     "execution_count": 57,
     "metadata": {},
     "output_type": "execute_result"
    }
   ],
   "source": [
    "df.max()"
   ]
  },
  {
   "cell_type": "code",
   "execution_count": 91,
   "id": "bb183840-7eaa-49da-af4f-569dcd85bd04",
   "metadata": {},
   "outputs": [
    {
     "ename": "SyntaxError",
     "evalue": "keyword argument repeated: axis (Temp/ipykernel_61228/2929754151.py, line 17)",
     "output_type": "error",
     "traceback": [
      "\u001b[1;36m  File \u001b[1;32m\"C:\\Users\\mehas\\AppData\\Local\\Temp/ipykernel_61228/2929754151.py\"\u001b[1;36m, line \u001b[1;32m17\u001b[0m\n\u001b[1;33m    g = df.max(axis = 0, axis = 'change')\u001b[0m\n\u001b[1;37m                         ^\u001b[0m\n\u001b[1;31mSyntaxError\u001b[0m\u001b[1;31m:\u001b[0m keyword argument repeated: axis\n"
     ]
    }
   ],
   "source": [
    "# #Task 4 :Greatest inc in profits :\n",
    "# import pandas as pd\n",
    "# greatest_inc = df.max()[\n",
    "# greatest_inc\n",
    "# df1 = df.dropna[['Profit/Losses','shifted']]\n",
    "# x = df.max()\n",
    "# for i in df.iteritems():\n",
    "#     if df.loc[i,'change'] == x :\n",
    "#         print (i)\n",
    "\n",
    "# del df['shifted']\n",
    "df\n",
    "# for i in df.iteritems():\n",
    "#     x = df.max()\n",
    "#     if df.loc[i,'change'] == x:\n",
    "#         print (df.loc[i])\n",
    "g = df.max(axis = 0, axis = 'change')\n",
    "\n",
    "\n",
    "    \n",
    "\n",
    "   "
   ]
  },
  {
   "cell_type": "code",
   "execution_count": 60,
   "id": "b6ceb8ed-0013-4629-b7ec-a53d3e3f1e53",
   "metadata": {},
   "outputs": [
    {
     "data": {
      "text/plain": [
       "Date       Apr-2010\n",
       "change   -2196167.0\n",
       "dtype: object"
      ]
     },
     "execution_count": 60,
     "metadata": {},
     "output_type": "execute_result"
    }
   ],
   "source": [
    "#Greatest dec in profits :\n",
    "greatest_dec= df.min(axis=0)\n",
    "greatest_dec"
   ]
  },
  {
   "cell_type": "code",
   "execution_count": 102,
   "id": "e1ffc9bf-a2b9-4777-800b-0be5d52b5978",
   "metadata": {},
   "outputs": [],
   "source": [
    "def f_analysis(path=''):\n",
    "    import pandas as pd\n",
    "    df = pd.read_csv(path)\n",
    "    total_months = len(df['Date'])\n",
    "    print(f'Total months :{total_months}')\n",
    "    total_pnl = 0\n",
    "    for i in df['Profit/Losses']:\n",
    "        total_pnl += i\n",
    "    print(f'Total profit : {total_pnl}')\n",
    "    df['shifted'] = df['Profit/Losses'].shift(1)\n",
    "    df.loc[0,'shifted'] = 0\n",
    "    df['change'] = df['Profit/Losses'] - df['shifted']\n",
    "    x = df['change'].loc[1:]\n",
    "    average_change = x.mean()\n",
    "    print(f'Average change :{average_change}')\n",
    "    import pandas as pd\n",
    "    del df['Profit/Losses']\n",
    "    del df['shifted']\n",
    "    greatest_inc = df.max(axis=0)\n",
    "    print(f'Greatest increase :{greatest_inc}')\n",
    "    greatest_dec= df.min(axis=0)\n",
    "    print(f'Greatest decrease :{greatest_dec}')\n",
    "    "
   ]
  },
  {
   "cell_type": "code",
   "execution_count": 103,
   "id": "2b2897ea-c592-4aed-930e-928d123af84e",
   "metadata": {},
   "outputs": [
    {
     "name": "stdout",
     "output_type": "stream",
     "text": [
      "Total months :86\n",
      "Total profit : 38382578\n",
      "Average change :-2315.1176470588234\n",
      "Greatest increase :Date       Sep-2016\n",
      "change    1926159.0\n",
      "dtype: object\n",
      "Greatest decrease :Date       Apr-2010\n",
      "change   -2196167.0\n",
      "dtype: object\n"
     ]
    }
   ],
   "source": [
    "f_analysis(\"C:/Users/mehas/Downloads/budget_data.csv\")"
   ]
  },
  {
   "cell_type": "code",
   "execution_count": null,
   "id": "a281c422-400a-435e-99a0-37853f129339",
   "metadata": {},
   "outputs": [],
   "source": []
  }
 ],
 "metadata": {
  "kernelspec": {
   "display_name": "Python 3 (ipykernel)",
   "language": "python",
   "name": "python3"
  },
  "language_info": {
   "codemirror_mode": {
    "name": "ipython",
    "version": 3
   },
   "file_extension": ".py",
   "mimetype": "text/x-python",
   "name": "python",
   "nbconvert_exporter": "python",
   "pygments_lexer": "ipython3",
   "version": "3.9.7"
  }
 },
 "nbformat": 4,
 "nbformat_minor": 5
}
